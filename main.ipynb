{
 "cells": [
  {
   "attachments": {},
   "cell_type": "markdown",
   "metadata": {},
   "source": [
    "Python Assignment Task  "
   ]
  },
  {
   "attachments": {},
   "cell_type": "markdown",
   "metadata": {},
   "source": [
    "Importing Libraries "
   ]
  },
  {
   "cell_type": "code",
   "execution_count": 97,
   "metadata": {},
   "outputs": [],
   "source": [
    "#import the Libraries \n",
    "\n",
    "import numpy as np \n",
    "import pandas as pd \n",
    "import matplotlib.pyplot as plt"
   ]
  },
  {
   "attachments": {},
   "cell_type": "markdown",
   "metadata": {},
   "source": [
    "Importing the data sets. "
   ]
  },
  {
   "cell_type": "code",
   "execution_count": 98,
   "metadata": {},
   "outputs": [],
   "source": [
    "# using Pandas to read the file \n",
    "\n",
    "train_data_set= pd.read_csv('train.csv')\n",
    "ideal_data_set= pd.read_csv('ideal.csv')\n",
    "test_data_set= pd.read_csv(\"test.csv\")"
   ]
  },
  {
   "attachments": {},
   "cell_type": "markdown",
   "metadata": {},
   "source": [
    "Display the top 5 row of each data sets "
   ]
  },
  {
   "cell_type": "code",
   "execution_count": 99,
   "metadata": {},
   "outputs": [
    {
     "data": {
      "text/html": [
       "<div>\n",
       "<style scoped>\n",
       "    .dataframe tbody tr th:only-of-type {\n",
       "        vertical-align: middle;\n",
       "    }\n",
       "\n",
       "    .dataframe tbody tr th {\n",
       "        vertical-align: top;\n",
       "    }\n",
       "\n",
       "    .dataframe thead th {\n",
       "        text-align: right;\n",
       "    }\n",
       "</style>\n",
       "<table border=\"1\" class=\"dataframe\">\n",
       "  <thead>\n",
       "    <tr style=\"text-align: right;\">\n",
       "      <th></th>\n",
       "      <th>x</th>\n",
       "      <th>y1</th>\n",
       "      <th>y2</th>\n",
       "      <th>y3</th>\n",
       "      <th>y4</th>\n",
       "    </tr>\n",
       "  </thead>\n",
       "  <tbody>\n",
       "    <tr>\n",
       "      <th>0</th>\n",
       "      <td>-20.0</td>\n",
       "      <td>40.379270</td>\n",
       "      <td>9.941395</td>\n",
       "      <td>-7999.5713</td>\n",
       "      <td>20.281954</td>\n",
       "    </tr>\n",
       "    <tr>\n",
       "      <th>1</th>\n",
       "      <td>-19.9</td>\n",
       "      <td>39.966780</td>\n",
       "      <td>9.955628</td>\n",
       "      <td>-7880.6660</td>\n",
       "      <td>19.916430</td>\n",
       "    </tr>\n",
       "    <tr>\n",
       "      <th>2</th>\n",
       "      <td>-19.8</td>\n",
       "      <td>39.475760</td>\n",
       "      <td>9.858090</td>\n",
       "      <td>-7762.3450</td>\n",
       "      <td>19.610155</td>\n",
       "    </tr>\n",
       "    <tr>\n",
       "      <th>3</th>\n",
       "      <td>-19.7</td>\n",
       "      <td>40.147300</td>\n",
       "      <td>9.962205</td>\n",
       "      <td>-7645.2256</td>\n",
       "      <td>19.421822</td>\n",
       "    </tr>\n",
       "    <tr>\n",
       "      <th>4</th>\n",
       "      <td>-19.6</td>\n",
       "      <td>39.834766</td>\n",
       "      <td>10.045976</td>\n",
       "      <td>-7529.9370</td>\n",
       "      <td>19.824934</td>\n",
       "    </tr>\n",
       "  </tbody>\n",
       "</table>\n",
       "</div>"
      ],
      "text/plain": [
       "      x         y1         y2         y3         y4\n",
       "0 -20.0  40.379270   9.941395 -7999.5713  20.281954\n",
       "1 -19.9  39.966780   9.955628 -7880.6660  19.916430\n",
       "2 -19.8  39.475760   9.858090 -7762.3450  19.610155\n",
       "3 -19.7  40.147300   9.962205 -7645.2256  19.421822\n",
       "4 -19.6  39.834766  10.045976 -7529.9370  19.824934"
      ]
     },
     "execution_count": 99,
     "metadata": {},
     "output_type": "execute_result"
    }
   ],
   "source": [
    "train_data_set.head()"
   ]
  },
  {
   "cell_type": "code",
   "execution_count": 100,
   "metadata": {},
   "outputs": [
    {
     "data": {
      "text/html": [
       "<div>\n",
       "<style scoped>\n",
       "    .dataframe tbody tr th:only-of-type {\n",
       "        vertical-align: middle;\n",
       "    }\n",
       "\n",
       "    .dataframe tbody tr th {\n",
       "        vertical-align: top;\n",
       "    }\n",
       "\n",
       "    .dataframe thead th {\n",
       "        text-align: right;\n",
       "    }\n",
       "</style>\n",
       "<table border=\"1\" class=\"dataframe\">\n",
       "  <thead>\n",
       "    <tr style=\"text-align: right;\">\n",
       "      <th></th>\n",
       "      <th>x</th>\n",
       "      <th>y1</th>\n",
       "      <th>y2</th>\n",
       "      <th>y3</th>\n",
       "      <th>y4</th>\n",
       "      <th>y5</th>\n",
       "      <th>y6</th>\n",
       "      <th>y7</th>\n",
       "      <th>y8</th>\n",
       "      <th>y9</th>\n",
       "      <th>...</th>\n",
       "      <th>y41</th>\n",
       "      <th>y42</th>\n",
       "      <th>y43</th>\n",
       "      <th>y44</th>\n",
       "      <th>y45</th>\n",
       "      <th>y46</th>\n",
       "      <th>y47</th>\n",
       "      <th>y48</th>\n",
       "      <th>y49</th>\n",
       "      <th>y50</th>\n",
       "    </tr>\n",
       "  </thead>\n",
       "  <tbody>\n",
       "    <tr>\n",
       "      <th>0</th>\n",
       "      <td>-20.0</td>\n",
       "      <td>-0.912945</td>\n",
       "      <td>0.408082</td>\n",
       "      <td>9.087055</td>\n",
       "      <td>5.408082</td>\n",
       "      <td>-9.087055</td>\n",
       "      <td>0.912945</td>\n",
       "      <td>-0.839071</td>\n",
       "      <td>-0.850919</td>\n",
       "      <td>0.816164</td>\n",
       "      <td>...</td>\n",
       "      <td>-40.456474</td>\n",
       "      <td>40.204040</td>\n",
       "      <td>2.995732</td>\n",
       "      <td>-0.008333</td>\n",
       "      <td>12.995732</td>\n",
       "      <td>5.298317</td>\n",
       "      <td>-5.298317</td>\n",
       "      <td>-0.186278</td>\n",
       "      <td>0.912945</td>\n",
       "      <td>0.396850</td>\n",
       "    </tr>\n",
       "    <tr>\n",
       "      <th>1</th>\n",
       "      <td>-19.9</td>\n",
       "      <td>-0.867644</td>\n",
       "      <td>0.497186</td>\n",
       "      <td>9.132356</td>\n",
       "      <td>5.497186</td>\n",
       "      <td>-9.132356</td>\n",
       "      <td>0.867644</td>\n",
       "      <td>-0.865213</td>\n",
       "      <td>0.168518</td>\n",
       "      <td>0.994372</td>\n",
       "      <td>...</td>\n",
       "      <td>-40.233820</td>\n",
       "      <td>40.048590</td>\n",
       "      <td>2.990720</td>\n",
       "      <td>-0.008340</td>\n",
       "      <td>12.990720</td>\n",
       "      <td>5.293305</td>\n",
       "      <td>-5.293305</td>\n",
       "      <td>-0.215690</td>\n",
       "      <td>0.867644</td>\n",
       "      <td>0.476954</td>\n",
       "    </tr>\n",
       "    <tr>\n",
       "      <th>2</th>\n",
       "      <td>-19.8</td>\n",
       "      <td>-0.813674</td>\n",
       "      <td>0.581322</td>\n",
       "      <td>9.186326</td>\n",
       "      <td>5.581322</td>\n",
       "      <td>-9.186326</td>\n",
       "      <td>0.813674</td>\n",
       "      <td>-0.889191</td>\n",
       "      <td>0.612391</td>\n",
       "      <td>1.162644</td>\n",
       "      <td>...</td>\n",
       "      <td>-40.006836</td>\n",
       "      <td>39.890660</td>\n",
       "      <td>2.985682</td>\n",
       "      <td>-0.008347</td>\n",
       "      <td>12.985682</td>\n",
       "      <td>5.288267</td>\n",
       "      <td>-5.288267</td>\n",
       "      <td>-0.236503</td>\n",
       "      <td>0.813674</td>\n",
       "      <td>0.549129</td>\n",
       "    </tr>\n",
       "    <tr>\n",
       "      <th>3</th>\n",
       "      <td>-19.7</td>\n",
       "      <td>-0.751573</td>\n",
       "      <td>0.659649</td>\n",
       "      <td>9.248426</td>\n",
       "      <td>5.659649</td>\n",
       "      <td>-9.248426</td>\n",
       "      <td>0.751573</td>\n",
       "      <td>-0.910947</td>\n",
       "      <td>-0.994669</td>\n",
       "      <td>1.319299</td>\n",
       "      <td>...</td>\n",
       "      <td>-39.775787</td>\n",
       "      <td>39.729824</td>\n",
       "      <td>2.980619</td>\n",
       "      <td>-0.008354</td>\n",
       "      <td>12.980619</td>\n",
       "      <td>5.283204</td>\n",
       "      <td>-5.283204</td>\n",
       "      <td>-0.247887</td>\n",
       "      <td>0.751573</td>\n",
       "      <td>0.612840</td>\n",
       "    </tr>\n",
       "    <tr>\n",
       "      <th>4</th>\n",
       "      <td>-19.6</td>\n",
       "      <td>-0.681964</td>\n",
       "      <td>0.731386</td>\n",
       "      <td>9.318036</td>\n",
       "      <td>5.731386</td>\n",
       "      <td>-9.318036</td>\n",
       "      <td>0.681964</td>\n",
       "      <td>-0.930426</td>\n",
       "      <td>0.774356</td>\n",
       "      <td>1.462772</td>\n",
       "      <td>...</td>\n",
       "      <td>-39.540980</td>\n",
       "      <td>39.565693</td>\n",
       "      <td>2.975530</td>\n",
       "      <td>-0.008361</td>\n",
       "      <td>12.975530</td>\n",
       "      <td>5.278115</td>\n",
       "      <td>-5.278115</td>\n",
       "      <td>-0.249389</td>\n",
       "      <td>0.681964</td>\n",
       "      <td>0.667902</td>\n",
       "    </tr>\n",
       "  </tbody>\n",
       "</table>\n",
       "<p>5 rows × 51 columns</p>\n",
       "</div>"
      ],
      "text/plain": [
       "      x        y1        y2        y3        y4        y5        y6        y7  \\\n",
       "0 -20.0 -0.912945  0.408082  9.087055  5.408082 -9.087055  0.912945 -0.839071   \n",
       "1 -19.9 -0.867644  0.497186  9.132356  5.497186 -9.132356  0.867644 -0.865213   \n",
       "2 -19.8 -0.813674  0.581322  9.186326  5.581322 -9.186326  0.813674 -0.889191   \n",
       "3 -19.7 -0.751573  0.659649  9.248426  5.659649 -9.248426  0.751573 -0.910947   \n",
       "4 -19.6 -0.681964  0.731386  9.318036  5.731386 -9.318036  0.681964 -0.930426   \n",
       "\n",
       "         y8        y9  ...        y41        y42       y43       y44  \\\n",
       "0 -0.850919  0.816164  ... -40.456474  40.204040  2.995732 -0.008333   \n",
       "1  0.168518  0.994372  ... -40.233820  40.048590  2.990720 -0.008340   \n",
       "2  0.612391  1.162644  ... -40.006836  39.890660  2.985682 -0.008347   \n",
       "3 -0.994669  1.319299  ... -39.775787  39.729824  2.980619 -0.008354   \n",
       "4  0.774356  1.462772  ... -39.540980  39.565693  2.975530 -0.008361   \n",
       "\n",
       "         y45       y46       y47       y48       y49       y50  \n",
       "0  12.995732  5.298317 -5.298317 -0.186278  0.912945  0.396850  \n",
       "1  12.990720  5.293305 -5.293305 -0.215690  0.867644  0.476954  \n",
       "2  12.985682  5.288267 -5.288267 -0.236503  0.813674  0.549129  \n",
       "3  12.980619  5.283204 -5.283204 -0.247887  0.751573  0.612840  \n",
       "4  12.975530  5.278115 -5.278115 -0.249389  0.681964  0.667902  \n",
       "\n",
       "[5 rows x 51 columns]"
      ]
     },
     "execution_count": 100,
     "metadata": {},
     "output_type": "execute_result"
    }
   ],
   "source": [
    "ideal_data_set.head()"
   ]
  },
  {
   "cell_type": "code",
   "execution_count": 101,
   "metadata": {},
   "outputs": [
    {
     "data": {
      "text/html": [
       "<div>\n",
       "<style scoped>\n",
       "    .dataframe tbody tr th:only-of-type {\n",
       "        vertical-align: middle;\n",
       "    }\n",
       "\n",
       "    .dataframe tbody tr th {\n",
       "        vertical-align: top;\n",
       "    }\n",
       "\n",
       "    .dataframe thead th {\n",
       "        text-align: right;\n",
       "    }\n",
       "</style>\n",
       "<table border=\"1\" class=\"dataframe\">\n",
       "  <thead>\n",
       "    <tr style=\"text-align: right;\">\n",
       "      <th></th>\n",
       "      <th>x</th>\n",
       "      <th>y</th>\n",
       "    </tr>\n",
       "  </thead>\n",
       "  <tbody>\n",
       "    <tr>\n",
       "      <th>0</th>\n",
       "      <td>2.6</td>\n",
       "      <td>31.205664</td>\n",
       "    </tr>\n",
       "    <tr>\n",
       "      <th>1</th>\n",
       "      <td>7.1</td>\n",
       "      <td>358.660600</td>\n",
       "    </tr>\n",
       "    <tr>\n",
       "      <th>2</th>\n",
       "      <td>14.3</td>\n",
       "      <td>2923.947000</td>\n",
       "    </tr>\n",
       "    <tr>\n",
       "      <th>3</th>\n",
       "      <td>-1.9</td>\n",
       "      <td>-7.198893</td>\n",
       "    </tr>\n",
       "    <tr>\n",
       "      <th>4</th>\n",
       "      <td>-13.4</td>\n",
       "      <td>-2719.026100</td>\n",
       "    </tr>\n",
       "  </tbody>\n",
       "</table>\n",
       "</div>"
      ],
      "text/plain": [
       "      x            y\n",
       "0   2.6    31.205664\n",
       "1   7.1   358.660600\n",
       "2  14.3  2923.947000\n",
       "3  -1.9    -7.198893\n",
       "4 -13.4 -2719.026100"
      ]
     },
     "execution_count": 101,
     "metadata": {},
     "output_type": "execute_result"
    }
   ],
   "source": [
    "test_data_set.head()"
   ]
  },
  {
   "attachments": {},
   "cell_type": "markdown",
   "metadata": {},
   "source": [
    "Assign the variables "
   ]
  },
  {
   "cell_type": "code",
   "execution_count": 102,
   "metadata": {},
   "outputs": [],
   "source": [
    "x_train= train_data_set['x']\n",
    "x_ideal= ideal_data_set['x']\n",
    "y1_train= train_data_set['y1']\n",
    "y2_train= train_data_set['y2']\n",
    "y3_train= train_data_set['y3']\n",
    "y4_train= train_data_set['y4']"
   ]
  },
  {
   "attachments": {},
   "cell_type": "markdown",
   "metadata": {},
   "source": [
    "Plotting the graph using matplot lib "
   ]
  },
  {
   "cell_type": "code",
   "execution_count": 103,
   "metadata": {},
   "outputs": [
    {
     "data": {
      "text/plain": [
       "<matplotlib.collections.PathCollection at 0x21a55e80fd0>"
      ]
     },
     "execution_count": 103,
     "metadata": {},
     "output_type": "execute_result"
    },
    {
     "data": {
      "image/png": "[encoded data removed]",
      "text/plain": [
       "<Figure size 640x480 with 1 Axes>"
      ]
     },
     "metadata": {},
     "output_type": "display_data"
    }
   ],
   "source": [
    "plt.scatter(x_train,y1_train,color='red')"
   ]
  },
  {
   "cell_type": "code",
   "execution_count": 104,
   "metadata": {},
   "outputs": [
    {
     "data": {
      "text/plain": [
       "<matplotlib.collections.PathCollection at 0x21a5602b670>"
      ]
     },
     "execution_count": 104,
     "metadata": {},
     "output_type": "execute_result"
    },
    {
     "data": {
      "image/png": "[encoded data removed]",
      "text/plain": [
       "<Figure size 640x480 with 1 Axes>"
      ]
     },
     "metadata": {},
     "output_type": "display_data"
    }
   ],
   "source": [
    "plt.scatter(x_train,y2_train,color='blue')"
   ]
  },
  {
   "cell_type": "code",
   "execution_count": 105,
   "metadata": {},
   "outputs": [
    {
     "data": {
      "text/plain": [
       "<matplotlib.collections.PathCollection at 0x21a55f234c0>"
      ]
     },
     "execution_count": 105,
     "metadata": {},
     "output_type": "execute_result"
    },
    {
     "data": {
      "image/png": "[encoded data removed]",
      "text/plain": [
       "<Figure size 640x480 with 1 Axes>"
      ]
     },
     "metadata": {},
     "output_type": "display_data"
    }
   ],
   "source": [
    "plt.scatter(x_train,y3_train,color='yellow')"
   ]
  },
  {
   "cell_type": "code",
   "execution_count": 106,
   "metadata": {},
   "outputs": [
    {
     "data": {
      "text/plain": [
       "<matplotlib.collections.PathCollection at 0x21a55f927f0>"
      ]
     },
     "execution_count": 106,
     "metadata": {},
     "output_type": "execute_result"
    },
    {
     "data": {
      "image/png": "[encoded data removed]",
      "text/plain": [
       "<Figure size 640x480 with 1 Axes>"
      ]
     },
     "metadata": {},
     "output_type": "display_data"
    }
   ],
   "source": [
    "plt.scatter(x_train,y4_train,color='green')"
   ]
  },
  {
   "attachments": {},
   "cell_type": "markdown",
   "metadata": {},
   "source": [
    "Plotting the graph using Bokeh library"
   ]
  },
  {
   "cell_type": "code",
   "execution_count": 107,
   "metadata": {},
   "outputs": [],
   "source": [
    "#importing Bokeh library.\n",
    "from bokeh.io import *\n",
    "from bokeh.plotting import *\n",
    "from bokeh.layouts import*\n",
    "from bokeh.io import curdoc\n",
    "from bokeh.plotting import figure,show\n",
    "curdoc().theme='contrast'"
   ]
  },
  {
   "attachments": {},
   "cell_type": "markdown",
   "metadata": {},
   "source": [
    "Graph plotting using bokeh "
   ]
  },
  {
   "cell_type": "code",
   "execution_count": 108,
   "metadata": {},
   "outputs": [],
   "source": [
    "#graph 1\n",
    "graph_1= figure(title= 'train vs train_y1')\n",
    "graph_1.star(x_train,y1_train,alpha=0.7)\n",
    "graph_1.outline_line_alpha = 0.7\n",
    "#show(graph_1)"
   ]
  },
  {
   "cell_type": "code",
   "execution_count": 109,
   "metadata": {},
   "outputs": [],
   "source": [
    "#graph 2\n",
    "graph_2=figure(title='train vs train_y2')\n",
    "graph_2.star(x_train,y2_train,alpha=0.7)\n",
    "graph_2.outline_line_alpha = 0.7\n",
    "#show(graph_2)"
   ]
  },
  {
   "cell_type": "code",
   "execution_count": 110,
   "metadata": {},
   "outputs": [],
   "source": [
    "#graph 3 \n",
    "graph_3=figure(title='train vs train_y3')\n",
    "graph_3.star(x_train,y3_train,alpha=0.7)\n",
    "graph_3.outline_line_alpha = 0.7\n",
    "#show(graph_3)"
   ]
  },
  {
   "cell_type": "code",
   "execution_count": 111,
   "metadata": {},
   "outputs": [],
   "source": [
    "#graph 4 \n",
    "graph_4=figure(title='train vs train_y4')\n",
    "graph_4.star(x_train,y4_train,alpha=0.7)\n",
    "graph_4.outline_line_alpha = 0.7\n",
    "#show(graph_4)"
   ]
  },
  {
   "cell_type": "code",
   "execution_count": 112,
   "metadata": {},
   "outputs": [],
   "source": [
    "gridplot_graph = gridplot([[graph_1,graph_2],[graph_3,graph_4]])\n",
    "\n",
    "show(gridplot_graph)"
   ]
  },
  {
   "attachments": {},
   "cell_type": "markdown",
   "metadata": {},
   "source": [
    "calculation of least square using Polyfit funtion"
   ]
  },
  {
   "cell_type": "code",
   "execution_count": 113,
   "metadata": {},
   "outputs": [],
   "source": [
    "numA= np.polyfit(x_train,y1_train,3)    #degree=3 \n",
    "numB= np.polyfit(x_train,y2_train,3)\n",
    "numC= np.polyfit(x_train,y3_train,3)\n",
    "numD= np.polyfit(x_train,y4_train,3)"
   ]
  },
  {
   "cell_type": "code",
   "execution_count": 114,
   "metadata": {},
   "outputs": [],
   "source": [
    "pred_1=np.poly1d(numA)\n",
    "pred_2=np.poly1d(numB)\n",
    "pred_3=np.poly1d(numC)\n",
    "pred_4=np.poly1d(numD)"
   ]
  },
  {
   "attachments": {},
   "cell_type": "markdown",
   "metadata": {},
   "source": [
    "Calculate Mean absolute error using function mean_absolute_error"
   ]
  },
  {
   "cell_type": "code",
   "execution_count": 115,
   "metadata": {},
   "outputs": [],
   "source": [
    "#setting model valuriable \n",
    "Mod_Y1= pred_1(x_ideal)\n",
    "Mod_Y2= pred_2(x_ideal)\n",
    "Mod_Y3= pred_3(x_ideal)\n",
    "Mod_Y4= pred_4(x_ideal)"
   ]
  },
  {
   "cell_type": "code",
   "execution_count": 120,
   "metadata": {},
   "outputs": [
    {
     "name": "stdout",
     "output_type": "stream",
     "text": [
      "mean absloute error 0.37491357412013315\n",
      "mean absloute error 1.2296083921472944\n",
      "mean absloute error 0.24366130429239743\n",
      "mean absloute error 1.2401386381783694\n"
     ]
    }
   ],
   "source": [
    "from sklearn.metrics import mean_absolute_error,mean_squared_error,mean_absolute_percentage_error, r2_score\n",
    "\n",
    "y1_mae= mean_absolute_error(y1_train,Mod_Y1)\n",
    "y2_mae= mean_absolute_error(y2_train,Mod_Y2)\n",
    "y3_mae= mean_absolute_error(y3_train,Mod_Y3)\n",
    "y4_mae= mean_absolute_error(y4_train,Mod_Y4)\n",
    "print('mean absloute error',y1_mae)\n",
    "print('mean absloute error',y2_mae)\n",
    "print('mean absloute error',y3_mae)\n",
    "print('mean absloute error',y4_mae)"
   ]
  },
  {
   "attachments": {},
   "cell_type": "markdown",
   "metadata": {},
   "source": [
    "calculating mean square error"
   ]
  },
  {
   "cell_type": "code",
   "execution_count": 121,
   "metadata": {},
   "outputs": [
    {
     "name": "stdout",
     "output_type": "stream",
     "text": [
      "mean Square error 0.21009250546858194\n",
      "mean Square error 2.111750441748524\n",
      "mean Square error 0.07956015988644052\n",
      "mean Square error 2.177325727915019\n"
     ]
    }
   ],
   "source": [
    "y1_mse= mean_squared_error (y1_train,Mod_Y1)\n",
    "y2_mse= mean_squared_error (y2_train,Mod_Y2)\n",
    "y3_mse= mean_squared_error (y3_train,Mod_Y3)\n",
    "y4_mse= mean_squared_error (y4_train,Mod_Y4)\n",
    "print('mean Square error',y1_mse)\n",
    "print('mean Square error',y2_mse)\n",
    "print('mean Square error',y3_mse)\n",
    "print('mean Square error',y4_mse)"
   ]
  },
  {
   "attachments": {},
   "cell_type": "markdown",
   "metadata": {},
   "source": [
    "We are defining ideal_function to calculate sqare sum"
   ]
  },
  {
   "cell_type": "code",
   "execution_count": 122,
   "metadata": {},
   "outputs": [],
   "source": [
    "def ideal_function(train_data_set,ideal_data_set):\n",
    "    \n",
    "    if not isinstance(train_data_set,pd.Series):\n",
    "        raise MyException(train_data_set,\"Exception raised! {} Must be a Pandas Serise\".format(train_data_set))\n",
    "    squared_sum=[]\n",
    "\n",
    "    for j in range(1,len(ideal_data_set.columns)):\n",
    "        squared_sum.append((j,sum((train_data_set-ideal_data_set['y'+str(j)].values)**2)))\n",
    "    squared_sum.sort(key=lambda x:x[1])\n",
    "    return squared_sum[0]"
   ]
  },
  {
   "attachments": {},
   "cell_type": "markdown",
   "metadata": {},
   "source": [
    "Calculating the ideal value using the function define. "
   ]
  },
  {
   "cell_type": "code",
   "execution_count": 128,
   "metadata": {},
   "outputs": [
    {
     "name": "stdout",
     "output_type": "stream",
     "text": [
      "Ideal function (Y1) is  Y42\n",
      "Ideal function (Y2) is  Y35\n",
      "Ideal function (Y3) is  Y21\n",
      "Ideal function (Y4) is  Y31\n"
     ]
    }
   ],
   "source": [
    "y1_ideal= ideal_function(y1_train,ideal_data_set)\n",
    "y2_ideal= ideal_function(y2_train,ideal_data_set)\n",
    "y3_ideal= ideal_function(y3_train,ideal_data_set)\n",
    "y4_ideal= ideal_function(y4_train,ideal_data_set)\n",
    "print(\"Ideal function (Y1) is \",\"Y\"+ str(y1_ideal[0]))\n",
    "print(\"Ideal function (Y2) is \",\"Y\"+ str(y2_ideal[0]))\n",
    "print(\"Ideal function (Y3) is \",\"Y\"+ str(y3_ideal[0]))\n",
    "print(\"Ideal function (Y4) is \",\"Y\"+ str(y4_ideal[0]))"
   ]
  },
  {
   "attachments": {},
   "cell_type": "markdown",
   "metadata": {},
   "source": [
    "Calculating the Deviation "
   ]
  },
  {
   "cell_type": "code",
   "execution_count": 129,
   "metadata": {},
   "outputs": [],
   "source": [
    "def max_deviation(train_data_set,ideal_data_set):\n",
    "    max_dev= abs(train_data_set.values-ideal_data_set.values)\n",
    "    max_dev.sort()\n",
    "    return max_dev[-1:][0]\n",
    "\n"
   ]
  },
  {
   "attachments": {},
   "cell_type": "markdown",
   "metadata": {},
   "source": [
    "Defining Maximum deviation from the max_deviation function "
   ]
  },
  {
   "cell_type": "code",
   "execution_count": 134,
   "metadata": {},
   "outputs": [
    {
     "name": "stdout",
     "output_type": "stream",
     "text": [
      "Maximum deviation 1: 0.497637000000001\n",
      "Maximum deviation 1: 0.49893300000000007\n",
      "Maximum deviation 1: 0.496924000000007\n",
      "Maximum deviation 1: 0.4964396\n"
     ]
    }
   ],
   "source": [
    "dev1 = max_deviation(y1_train,ideal_data_set['y'+ str(y1_ideal[0])])\n",
    "print('Maximum deviation 1:',dev1)\n",
    "dev2 = max_deviation(y2_train,ideal_data_set['y'+ str(y2_ideal[0])])\n",
    "print('Maximum deviation 1:',dev2)\n",
    "dev3 = max_deviation(y3_train,ideal_data_set['y'+ str(y3_ideal[0])])\n",
    "print('Maximum deviation 1:',dev3)\n",
    "dev4 = max_deviation(y4_train,ideal_data_set['y'+ str(y4_ideal[0])])\n",
    "print('Maximum deviation 1:',dev4)"
   ]
  },
  {
   "cell_type": "code",
   "execution_count": null,
   "metadata": {},
   "outputs": [],
   "source": [
    "for x in range "
   ]
  }
 ],
 "metadata": {
  "kernelspec": {
   "display_name": "base",
   "language": "python",
   "name": "python3"
  },
  "language_info": {
   "codemirror_mode": {
    "name": "ipython",
    "version": 3
   },
   "file_extension": ".py",
   "mimetype": "text/x-python",
   "name": "python",
   "nbconvert_exporter": "python",
   "pygments_lexer": "ipython3",
   "version": "3.9.13"
  },
  "orig_nbformat": 4,
  "vscode": {
   "interpreter": {
    "hash": "a320987c2213025833d6a5160f868ea25e2c53accce4d498870359b209cc08ba"
   }
  }
 },
 "nbformat": 4,
 "nbformat_minor": 2
}
